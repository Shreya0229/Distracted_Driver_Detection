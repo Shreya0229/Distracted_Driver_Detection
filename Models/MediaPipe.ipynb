{
  "cells": [
    {
      "cell_type": "markdown",
      "source": [
        "# Code for creation of dataset using MediaPipe landmark detection and annotation "
      ],
      "metadata": {
        "id": "2h8RU6-7O9o0"
      }
    },
    {
      "cell_type": "code",
      "execution_count": null,
      "metadata": {
        "colab": {
          "base_uri": "https://localhost:8080/"
        },
        "id": "rlqfQDC8HxFg",
        "outputId": "48537c5b-424e-4951-8496-8f9757fef412"
      },
      "outputs": [
        {
          "name": "stdout",
          "output_type": "stream",
          "text": [
            "Requirement already satisfied: mediapipe in /usr/local/lib/python3.7/dist-packages (0.8.9.1)\n",
            "Requirement already satisfied: opencv-contrib-python in /usr/local/lib/python3.7/dist-packages (from mediapipe) (4.1.2.30)\n",
            "Requirement already satisfied: matplotlib in /usr/local/lib/python3.7/dist-packages (from mediapipe) (3.2.2)\n",
            "Requirement already satisfied: numpy in /usr/local/lib/python3.7/dist-packages (from mediapipe) (1.21.6)\n",
            "Requirement already satisfied: absl-py in /usr/local/lib/python3.7/dist-packages (from mediapipe) (1.0.0)\n",
            "Requirement already satisfied: protobuf>=3.11.4 in /usr/local/lib/python3.7/dist-packages (from mediapipe) (3.17.3)\n",
            "Requirement already satisfied: attrs>=19.1.0 in /usr/local/lib/python3.7/dist-packages (from mediapipe) (21.4.0)\n",
            "Requirement already satisfied: six>=1.9 in /usr/local/lib/python3.7/dist-packages (from protobuf>=3.11.4->mediapipe) (1.15.0)\n",
            "Requirement already satisfied: cycler>=0.10 in /usr/local/lib/python3.7/dist-packages (from matplotlib->mediapipe) (0.11.0)\n",
            "Requirement already satisfied: kiwisolver>=1.0.1 in /usr/local/lib/python3.7/dist-packages (from matplotlib->mediapipe) (1.4.2)\n",
            "Requirement already satisfied: pyparsing!=2.0.4,!=2.1.2,!=2.1.6,>=2.0.1 in /usr/local/lib/python3.7/dist-packages (from matplotlib->mediapipe) (3.0.8)\n",
            "Requirement already satisfied: python-dateutil>=2.1 in /usr/local/lib/python3.7/dist-packages (from matplotlib->mediapipe) (2.8.2)\n",
            "Requirement already satisfied: typing-extensions in /usr/local/lib/python3.7/dist-packages (from kiwisolver>=1.0.1->matplotlib->mediapipe) (4.2.0)\n"
          ]
        }
      ],
      "source": [
        "!pip install mediapipe"
      ]
    },
    {
      "cell_type": "code",
      "execution_count": null,
      "metadata": {
        "colab": {
          "base_uri": "https://localhost:8080/"
        },
        "id": "cN35ZBeyzI4o",
        "outputId": "082785c5-2de2-4803-d24d-17a3a302ccd7"
      },
      "outputs": [
        {
          "name": "stdout",
          "output_type": "stream",
          "text": [
            "Drive already mounted at /content/drive; to attempt to forcibly remount, call drive.mount(\"/content/drive\", force_remount=True).\n"
          ]
        }
      ],
      "source": [
        "from google.colab import drive\n",
        "from google.colab import files\n",
        "import pandas as pd \n",
        "import warnings\n",
        "import os\n",
        "import pandas as pd\n",
        "import pickle\n",
        "import numpy as np\n",
        "import seaborn as sns\n",
        "from sklearn.datasets import load_files\n",
        "from keras.utils import np_utils\n",
        "import matplotlib.pyplot as plt\n",
        "from keras.layers import Conv2D, MaxPooling2D, GlobalAveragePooling2D\n",
        "from keras.layers import Dropout, Flatten, Dense\n",
        "from keras.models import Sequential\n",
        "from keras.utils.vis_utils import plot_model\n",
        "from keras.callbacks import ModelCheckpoint\n",
        "from sklearn.metrics import confusion_matrix\n",
        "from keras.preprocessing import image                  \n",
        "from tqdm import tqdm\n",
        "\n",
        "import seaborn as sns\n",
        "from sklearn.metrics import accuracy_score,precision_score,recall_score,f1_score \n"
      ]
    },
    {
      "cell_type": "code",
      "execution_count": null,
      "metadata": {
        "colab": {
          "background_save": true
        },
        "id": "WL45tbiLEf8j"
      },
      "outputs": [],
      "source": [
        "import cv2\n",
        "import mediapipe as mp\n",
        "import numpy as np\n",
        "from matplotlib import pyplot as plt\n",
        "from google.colab.patches import cv2_imshow\n",
        "warnings.filterwarnings(\"ignore\")\n",
        "#mounting the drive \n",
        "drive.mount('/content/drive') \n",
        "\n",
        "\n",
        "mp_drawing = mp.solutions.drawing_utils\n",
        "mp_drawing_styles = mp.solutions.drawing_styles\n",
        "mp_pose = mp.solutions.pose\n",
        "\n",
        "pose = mp_pose.Pose(static_image_mode=True, model_complexity=2, enable_segmentation=True, smooth_segmentation = True, min_detection_confidence=0.5) \n",
        "\n",
        "for i in range(1, 10):\n",
        "    count = 0 \n",
        "    directory= '/content/drive/MyDrive/CV_project/merged_dataset/train/c'+str(i)\n",
        "\n",
        "    for filenamee in os.listdir(directory):\n",
        "      count += 1\n",
        "      print(count)\n",
        "\n",
        "      image = cv2.imread('/content/drive/MyDrive/CV_project/merged_dataset/train/c'+str(i)+ '/'+ str(filenamee))\n",
        "      image_height, image_width, _ = image.shape\n",
        "      results = pose.process(cv2.cvtColor(image, cv2.COLOR_BGR2RGB))\n",
        "      if not results.pose_landmarks:\n",
        "        continue\n",
        "      BG_COLOR = (192, 192, 192) # gray\n",
        "      annotated_image = image.copy()\n",
        "      del image \n",
        "      condition = np.stack((results.segmentation_mask,) * 3, axis=-1) > 0.1\n",
        "      bg_image = np.zeros(annotated_image.shape, dtype=np.uint8)\n",
        "      bg_image[:] = BG_COLOR\n",
        "      annotated_image = np.where(condition, annotated_image, bg_image)\n",
        "      # Draw pose landmarks on the image.\n",
        "      mp_drawing.draw_landmarks(\n",
        "          annotated_image,\n",
        "          results.pose_landmarks,\n",
        "          mp_pose.POSE_CONNECTIONS,\n",
        "          landmark_drawing_spec=mp_drawing_styles.get_default_pose_landmarks_style())\n",
        "      \n",
        "\n",
        "      directory = '/content/drive/MyDrive/CV_project/merged_dataset_mediaPipe/c'+str(i)\n",
        "      img = annotated_image \n",
        "      # filename = filenamee\n",
        "      del bg_image, annotated_image, condition \n",
        "      cv2.imwrite(os.path.join(directory , str(filenamee)), img) \n",
        "      del img\n",
        "    print(\"class - \", i)\n",
        "\n",
        "\n"
      ]
    },
    {
      "cell_type": "code",
      "execution_count": null,
      "metadata": {
        "id": "_TKUfgiyTRPa"
      },
      "outputs": [],
      "source": [
        ""
      ]
    }
  ],
  "metadata": {
    "colab": {
      "collapsed_sections": [],
      "name": "MediaPipe.ipynb",
      "provenance": []
    },
    "kernelspec": {
      "display_name": "Python 3",
      "name": "python3"
    },
    "language_info": {
      "name": "python"
    }
  },
  "nbformat": 4,
  "nbformat_minor": 0
}