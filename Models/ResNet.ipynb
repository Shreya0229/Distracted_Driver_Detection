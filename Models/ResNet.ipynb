{
  "nbformat": 4,
  "nbformat_minor": 0,
  "metadata": {
    "colab": {
      "name": "ResNet.ipynb",
      "provenance": [],
      "collapsed_sections": []
    },
    "kernelspec": {
      "name": "python3",
      "display_name": "Python 3"
    },
    "language_info": {
      "name": "python"
    }
  },
  "cells": [
    {
      "cell_type": "code",
      "source": [
        "from google.colab import drive\n",
        "from google.colab import files\n",
        "import pandas as pd \n",
        "import warnings\n",
        "import os\n",
        "import pandas as pd\n",
        "import pickle\n",
        "import numpy as np\n",
        "import seaborn as sns\n",
        "from sklearn.datasets import load_files\n",
        "from keras.utils import np_utils\n",
        "import matplotlib.pyplot as plt\n",
        "from keras.layers import Conv2D, MaxPooling2D, GlobalAveragePooling2D\n",
        "from keras.layers import Dropout, Flatten, Dense\n",
        "from keras.models import Sequential\n",
        "from keras.utils.vis_utils import plot_model\n",
        "from keras.callbacks import ModelCheckpoint\n",
        "from sklearn.metrics import confusion_matrix\n",
        "from keras.preprocessing import image                  \n",
        "from tqdm import tqdm\n",
        "\n",
        "import seaborn as sns\n",
        "from sklearn.metrics import accuracy_score,precision_score,recall_score,f1_score \n",
        "warnings.filterwarnings(\"ignore\")\n",
        "#mounting the drive \n",
        "drive.mount('/content/drive')\n",
        "# run code in google colab since it uses libraries from the same \n",
        "# upload input files onto the local session of colab / same folder as the .py file "
      ],
      "metadata": {
        "id": "rA76fir_sR31",
        "colab": {
          "base_uri": "https://localhost:8080/"
        },
        "outputId": "0ac10781-c1c0-4f8d-91f7-b17a1407b434"
      },
      "execution_count": 1,
      "outputs": [
        {
          "output_type": "stream",
          "name": "stdout",
          "text": [
            "Mounted at /content/drive\n"
          ]
        }
      ]
    },
    {
      "cell_type": "code",
      "source": [
        "import os\n",
        "def create_csv(DATA_DIR,filename):\n",
        "    class_names = os.listdir(DATA_DIR)\n",
        "    data = list()\n",
        "    if(os.path.isdir(os.path.join(DATA_DIR,class_names[0]))):\n",
        "        for class_name in class_names:\n",
        "            file_names = os.listdir(os.path.join(DATA_DIR,class_name))\n",
        "            for file in file_names:\n",
        "                data.append({\n",
        "                    \"Filename\":os.path.join(DATA_DIR,class_name,file),\n",
        "                    \"ClassName\":class_name\n",
        "                })\n",
        "    else:\n",
        "        class_name = \"test\"\n",
        "        file_names = os.listdir(DATA_DIR)\n",
        "        for file in file_names:\n",
        "            data.append(({\n",
        "                \"FileName\":os.path.join(DATA_DIR,file),\n",
        "                \"ClassName\":class_name\n",
        "            }))\n",
        "    data = pd.DataFrame(data)\n",
        "    data.to_csv(os.path.join('/content/drive/MyDrive/CV_project/',filename),index=False)\n",
        "\n",
        "\n",
        "TRAIN_DIR = '/content/drive/MyDrive/CV_project/mediaPipe' \n",
        "create_csv(TRAIN_DIR,\"train.csv\")\n",
        "\n"
      ],
      "metadata": {
        "id": "h1b0yaCS_Udf"
      },
      "execution_count": 2,
      "outputs": []
    },
    {
      "cell_type": "code",
      "source": [
        "data = pd.read_csv(\"/content/drive/MyDrive/CV_project/train.csv\")"
      ],
      "metadata": {
        "id": "sqEnOABKS5ZH"
      },
      "execution_count": 3,
      "outputs": []
    },
    {
      "cell_type": "code",
      "source": [
        "data.info()"
      ],
      "metadata": {
        "id": "yXnpi4QFELuk",
        "colab": {
          "base_uri": "https://localhost:8080/"
        },
        "outputId": "5014e708-eda6-43d5-a5ad-7658a14a95a9"
      },
      "execution_count": 4,
      "outputs": [
        {
          "output_type": "stream",
          "name": "stdout",
          "text": [
            "<class 'pandas.core.frame.DataFrame'>\n",
            "RangeIndex: 32368 entries, 0 to 32367\n",
            "Data columns (total 2 columns):\n",
            " #   Column     Non-Null Count  Dtype \n",
            "---  ------     --------------  ----- \n",
            " 0   Filename   32368 non-null  object\n",
            " 1   ClassName  32368 non-null  object\n",
            "dtypes: object(2)\n",
            "memory usage: 505.9+ KB\n"
          ]
        }
      ]
    },
    {
      "cell_type": "code",
      "source": [
        "data['ClassName'].value_counts()"
      ],
      "metadata": {
        "id": "PI3jPXn8ELwl",
        "colab": {
          "base_uri": "https://localhost:8080/"
        },
        "outputId": "f5d397c2-0460-455c-d356-0bce3ac2e2cd"
      },
      "execution_count": 5,
      "outputs": [
        {
          "output_type": "execute_result",
          "data": {
            "text/plain": [
              "c0    4904\n",
              "c9    3868\n",
              "c1    3576\n",
              "c5    3156\n",
              "c4    3149\n",
              "c6    3051\n",
              "c3    2905\n",
              "c2    2776\n",
              "c7    2584\n",
              "c8    2399\n",
              "Name: ClassName, dtype: int64"
            ]
          },
          "metadata": {},
          "execution_count": 5
        }
      ]
    },
    {
      "cell_type": "code",
      "source": [
        "data.describe()"
      ],
      "metadata": {
        "id": "wgPzeSsHESDR",
        "colab": {
          "base_uri": "https://localhost:8080/",
          "height": 175
        },
        "outputId": "23bd7986-490d-4b15-89c2-1c37df403ad6"
      },
      "execution_count": 6,
      "outputs": [
        {
          "output_type": "execute_result",
          "data": {
            "text/plain": [
              "                                                 Filename ClassName\n",
              "count                                               32368     32368\n",
              "unique                                              32368        10\n",
              "top     /content/drive/MyDrive/CV_project/mediaPipe/c0...        c0\n",
              "freq                                                    1      4904"
            ],
            "text/html": [
              "\n",
              "  <div id=\"df-6e5132ad-f32d-4675-96c9-01cb477c69c6\">\n",
              "    <div class=\"colab-df-container\">\n",
              "      <div>\n",
              "<style scoped>\n",
              "    .dataframe tbody tr th:only-of-type {\n",
              "        vertical-align: middle;\n",
              "    }\n",
              "\n",
              "    .dataframe tbody tr th {\n",
              "        vertical-align: top;\n",
              "    }\n",
              "\n",
              "    .dataframe thead th {\n",
              "        text-align: right;\n",
              "    }\n",
              "</style>\n",
              "<table border=\"1\" class=\"dataframe\">\n",
              "  <thead>\n",
              "    <tr style=\"text-align: right;\">\n",
              "      <th></th>\n",
              "      <th>Filename</th>\n",
              "      <th>ClassName</th>\n",
              "    </tr>\n",
              "  </thead>\n",
              "  <tbody>\n",
              "    <tr>\n",
              "      <th>count</th>\n",
              "      <td>32368</td>\n",
              "      <td>32368</td>\n",
              "    </tr>\n",
              "    <tr>\n",
              "      <th>unique</th>\n",
              "      <td>32368</td>\n",
              "      <td>10</td>\n",
              "    </tr>\n",
              "    <tr>\n",
              "      <th>top</th>\n",
              "      <td>/content/drive/MyDrive/CV_project/mediaPipe/c0...</td>\n",
              "      <td>c0</td>\n",
              "    </tr>\n",
              "    <tr>\n",
              "      <th>freq</th>\n",
              "      <td>1</td>\n",
              "      <td>4904</td>\n",
              "    </tr>\n",
              "  </tbody>\n",
              "</table>\n",
              "</div>\n",
              "      <button class=\"colab-df-convert\" onclick=\"convertToInteractive('df-6e5132ad-f32d-4675-96c9-01cb477c69c6')\"\n",
              "              title=\"Convert this dataframe to an interactive table.\"\n",
              "              style=\"display:none;\">\n",
              "        \n",
              "  <svg xmlns=\"http://www.w3.org/2000/svg\" height=\"24px\"viewBox=\"0 0 24 24\"\n",
              "       width=\"24px\">\n",
              "    <path d=\"M0 0h24v24H0V0z\" fill=\"none\"/>\n",
              "    <path d=\"M18.56 5.44l.94 2.06.94-2.06 2.06-.94-2.06-.94-.94-2.06-.94 2.06-2.06.94zm-11 1L8.5 8.5l.94-2.06 2.06-.94-2.06-.94L8.5 2.5l-.94 2.06-2.06.94zm10 10l.94 2.06.94-2.06 2.06-.94-2.06-.94-.94-2.06-.94 2.06-2.06.94z\"/><path d=\"M17.41 7.96l-1.37-1.37c-.4-.4-.92-.59-1.43-.59-.52 0-1.04.2-1.43.59L10.3 9.45l-7.72 7.72c-.78.78-.78 2.05 0 2.83L4 21.41c.39.39.9.59 1.41.59.51 0 1.02-.2 1.41-.59l7.78-7.78 2.81-2.81c.8-.78.8-2.07 0-2.86zM5.41 20L4 18.59l7.72-7.72 1.47 1.35L5.41 20z\"/>\n",
              "  </svg>\n",
              "      </button>\n",
              "      \n",
              "  <style>\n",
              "    .colab-df-container {\n",
              "      display:flex;\n",
              "      flex-wrap:wrap;\n",
              "      gap: 12px;\n",
              "    }\n",
              "\n",
              "    .colab-df-convert {\n",
              "      background-color: #E8F0FE;\n",
              "      border: none;\n",
              "      border-radius: 50%;\n",
              "      cursor: pointer;\n",
              "      display: none;\n",
              "      fill: #1967D2;\n",
              "      height: 32px;\n",
              "      padding: 0 0 0 0;\n",
              "      width: 32px;\n",
              "    }\n",
              "\n",
              "    .colab-df-convert:hover {\n",
              "      background-color: #E2EBFA;\n",
              "      box-shadow: 0px 1px 2px rgba(60, 64, 67, 0.3), 0px 1px 3px 1px rgba(60, 64, 67, 0.15);\n",
              "      fill: #174EA6;\n",
              "    }\n",
              "\n",
              "    [theme=dark] .colab-df-convert {\n",
              "      background-color: #3B4455;\n",
              "      fill: #D2E3FC;\n",
              "    }\n",
              "\n",
              "    [theme=dark] .colab-df-convert:hover {\n",
              "      background-color: #434B5C;\n",
              "      box-shadow: 0px 1px 3px 1px rgba(0, 0, 0, 0.15);\n",
              "      filter: drop-shadow(0px 1px 2px rgba(0, 0, 0, 0.3));\n",
              "      fill: #FFFFFF;\n",
              "    }\n",
              "  </style>\n",
              "\n",
              "      <script>\n",
              "        const buttonEl =\n",
              "          document.querySelector('#df-6e5132ad-f32d-4675-96c9-01cb477c69c6 button.colab-df-convert');\n",
              "        buttonEl.style.display =\n",
              "          google.colab.kernel.accessAllowed ? 'block' : 'none';\n",
              "\n",
              "        async function convertToInteractive(key) {\n",
              "          const element = document.querySelector('#df-6e5132ad-f32d-4675-96c9-01cb477c69c6');\n",
              "          const dataTable =\n",
              "            await google.colab.kernel.invokeFunction('convertToInteractive',\n",
              "                                                     [key], {});\n",
              "          if (!dataTable) return;\n",
              "\n",
              "          const docLinkHtml = 'Like what you see? Visit the ' +\n",
              "            '<a target=\"_blank\" href=https://colab.research.google.com/notebooks/data_table.ipynb>data table notebook</a>'\n",
              "            + ' to learn more about interactive tables.';\n",
              "          element.innerHTML = '';\n",
              "          dataTable['output_type'] = 'display_data';\n",
              "          await google.colab.output.renderOutput(dataTable, element);\n",
              "          const docLink = document.createElement('div');\n",
              "          docLink.innerHTML = docLinkHtml;\n",
              "          element.appendChild(docLink);\n",
              "        }\n",
              "      </script>\n",
              "    </div>\n",
              "  </div>\n",
              "  "
            ]
          },
          "metadata": {},
          "execution_count": 6
        }
      ]
    },
    {
      "cell_type": "code",
      "source": [
        "nf = data['ClassName'].value_counts(sort=False)\n",
        "labels = data['ClassName'].value_counts(sort=False).index.tolist()\n",
        "y = np.array(nf)\n",
        "width = 1/1.5\n",
        "N = len(y)\n",
        "x = range(N)\n",
        "\n",
        "fig = plt.figure(figsize=(20,15))\n",
        "ay = fig.add_subplot(211)\n",
        "\n",
        "plt.xticks(x, labels, size=15)\n",
        "plt.yticks(size=15)\n",
        "\n",
        "ay.bar(x, y, width, color=\"blue\")\n",
        "\n",
        "plt.title('Bar Chart',size=25)\n",
        "plt.xlabel('classname',size=15)\n",
        "plt.ylabel('Count',size=15)\n",
        "\n",
        "plt.show()"
      ],
      "metadata": {
        "id": "-9U5iz1oESFo",
        "colab": {
          "base_uri": "https://localhost:8080/",
          "height": 455
        },
        "outputId": "c6797072-431f-4f20-cd57-59fe0951b234"
      },
      "execution_count": 7,
      "outputs": [
        {
          "output_type": "display_data",
          "data": {
            "text/plain": [
              "<Figure size 1440x1080 with 1 Axes>"
            ],
            "image/png": "[encoded data removed]"
          },
          "metadata": {
            "needs_background": "light"
          }
        }
      ]
    },
    {
      "cell_type": "code",
      "source": [
        "labels_list = list(set(data['ClassName'].values.tolist()))\n",
        "labels_id = {'c0' : 0, 'c1' : 1, 'c2' : 2, 'c3':3, 'c4':4, 'c5' : 5, 'c6' : 6, 'c7' : 7, 'c8':8, 'c9':9}\n",
        "print(labels_id)\n",
        "data['ClassName'].replace(labels_id,inplace=True)"
      ],
      "metadata": {
        "id": "1wIJNFWzESJP",
        "colab": {
          "base_uri": "https://localhost:8080/"
        },
        "outputId": "2a43f737-f845-4318-c5e2-85e2eddfab07"
      },
      "execution_count": 8,
      "outputs": [
        {
          "output_type": "stream",
          "name": "stdout",
          "text": [
            "{'c0': 0, 'c1': 1, 'c2': 2, 'c3': 3, 'c4': 4, 'c5': 5, 'c6': 6, 'c7': 7, 'c8': 8, 'c9': 9}\n"
          ]
        }
      ]
    },
    {
      "cell_type": "code",
      "source": [
        "with open(os.path.join(\"/content/drive/MyDrive/CV_project/\", \"labels_list.pkl\"),\"wb\") as handle:\n",
        "    pickle.dump(labels_id,handle)"
      ],
      "metadata": {
        "id": "QabSzToLEeBN"
      },
      "execution_count": 9,
      "outputs": []
    },
    {
      "cell_type": "code",
      "source": [
        "from tensorflow.keras.utils import to_categorical\n",
        "\n",
        "labels = to_categorical(data['ClassName'])\n",
        "print(labels.shape)"
      ],
      "metadata": {
        "id": "B_ynh78bEyTt",
        "colab": {
          "base_uri": "https://localhost:8080/"
        },
        "outputId": "9bedd25c-3315-4a72-ccab-94622201c549"
      },
      "execution_count": 10,
      "outputs": [
        {
          "output_type": "stream",
          "name": "stdout",
          "text": [
            "(32368, 10)\n"
          ]
        }
      ]
    },
    {
      "cell_type": "code",
      "source": [
        "from sklearn.model_selection import train_test_split\n",
        "\n",
        "X_train, xtest, Y_train, ytest = train_test_split(data.iloc[:,0],labels,train_size = 0.7,random_state=42)"
      ],
      "metadata": {
        "id": "gH7NLdSQE0V1"
      },
      "execution_count": 18,
      "outputs": []
    },
    {
      "cell_type": "code",
      "source": [
        "X_val, X_test, Y_val, Y_test = train_test_split(xtest, ytest, test_size = 0.5,random_state=42)"
      ],
      "metadata": {
        "id": "0YrWXdlDGxvh"
      },
      "execution_count": 19,
      "outputs": []
    },
    {
      "cell_type": "code",
      "source": [
        "from PIL import ImageFile                            \n",
        "ImageFile.LOAD_TRUNCATED_IMAGES = True                 \n"
      ],
      "metadata": {
        "id": "sNJ_1kM-HHwJ"
      },
      "execution_count": 20,
      "outputs": []
    },
    {
      "cell_type": "code",
      "source": [
        "def path_to_tensor(img_path):\n",
        "    # loads RGB image as PIL.Image.Image type\n",
        "    img = image.load_img(img_path, target_size=(128, 128))\n",
        "    # convert PIL.Image.Image type to 3D tensor with shape (224, 224, 3)\n",
        "    x = image.img_to_array(img)\n",
        "    # convert 3D tensor to 4D tensor with shape (1, 224, 224, 3) and return 4D tensor\n",
        "    return np.expand_dims(x, axis=0)\n",
        "\n",
        "def paths_to_tensor(img_paths):\n",
        "    list_of_tensors = [path_to_tensor(img_path) for img_path in tqdm(img_paths)]\n",
        "    return np.vstack(list_of_tensors)"
      ],
      "metadata": {
        "id": "ZgyFy_12G-Q7"
      },
      "execution_count": 21,
      "outputs": []
    },
    {
      "cell_type": "code",
      "source": [
        "def path_to_arr(img_path):\n",
        "    # loads RGB image as PIL.Image.Image type\n",
        "    img = image.load_img(img_path,  color_mode='rgb', target_size=(128, 128))\n",
        "    img = np.array(img)\n",
        "    # convert PIL.Image.Image type to 3D tensor with shape (224, 224, 3)\n",
        "    # x = image.img_to_array(img)\n",
        "    # convert 3D tensor to 4D tensor with shape (1, 224, 224, 3) and return 4D tensor\n",
        "    return img\n",
        "\n",
        "def paths_to_arr(img_paths):\n",
        "    list_of_tensors = [path_to_arr(img_path) for img_path in tqdm(img_paths)]\n",
        "    return np.array(list_of_tensors)\n"
      ],
      "metadata": {
        "id": "gbtS8Meyil5d"
      },
      "execution_count": 22,
      "outputs": []
    },
    {
      "cell_type": "code",
      "source": [
        "del data, xtest, ytest"
      ],
      "metadata": {
        "id": "kA--A5MCxXk8"
      },
      "execution_count": 24,
      "outputs": []
    },
    {
      "cell_type": "code",
      "source": [
        "with open('/content/drive/MyDrive/CV_project/train.npy', 'rb') as f:\n",
        "  train = np.load(f)"
      ],
      "metadata": {
        "id": "_HQ9NsW2j9AM"
      },
      "execution_count": 26,
      "outputs": []
    },
    {
      "cell_type": "code",
      "source": [
        "with open('/content/drive/MyDrive/CV_project/valid.npy', 'rb') as f:\n",
        "  valid = np.load(f)"
      ],
      "metadata": {
        "id": "BmO4fTqpXoKo"
      },
      "execution_count": 27,
      "outputs": []
    },
    {
      "cell_type": "code",
      "source": [
        "from tensorflow.keras.applications.resnet50 import ResNet50\n",
        "from tensorflow.keras.layers import Input\n",
        "from tensorflow.keras.layers import AveragePooling2D\n",
        "from keras.models import Model\n",
        "from tensorflow.keras.layers import Dense\n",
        "from keras.layers import Flatten\n",
        "from keras.layers import Dropout\n",
        "from keras.layers import BatchNormalization\n",
        "from keras.layers import Input\n",
        "resnet50_input = Input(shape = (224, 224, 3), name = 'Image_input')\n",
        "\n",
        "baseModel = ResNet50(weights=\"imagenet\", include_top=False, input_shape= (224,224,3))\n",
        "\n",
        "headModel = baseModel(resnet50_input)\n",
        "x=GlobalAveragePooling2D()(headModel)\n",
        "x=Dense(1024,activation='relu')(x) #we add dense layers so that the model can learn more complex functions and classify for better results.\n",
        "x = Dropout(0.1)(x) # **reduce dropout \n",
        "x=Dense(1024,activation='relu')(x) #dense layer 2\n",
        "x = BatchNormalization()(x)\n",
        "x = Dropout(0.5)(x)\n",
        "x=Dense(512,activation='relu')(x) #dense layer 3\n",
        "x = Dense(10, activation='softmax', name='predictions')(x)\n",
        "\n",
        "\n",
        "model = Model(inputs=baseModel.input, outputs=x)\n",
        "model.summary()"
      ],
      "metadata": {
        "id": "YklokptqILuF"
      },
      "execution_count": null,
      "outputs": []
    },
    {
      "cell_type": "code",
      "source": [
        "model.compile(loss='categorical_crossentropy',optimizer = 'rmsprop',metrics=['accuracy'])"
      ],
      "metadata": {
        "id": "P65mcwqnIOsv"
      },
      "execution_count": null,
      "outputs": []
    },
    {
      "cell_type": "code",
      "source": [
        "filepath = \"/content/drive/MyDrive/CV_project/Resnet_models/distracted-{epoch:02d}-{val_accuracy:.2f}.hdf5\"\n",
        "checkpoint = ModelCheckpoint(filepath, monitor='val_accuracy', verbose=1, save_best_only=False, mode='max',period=1)\n",
        "callbacks_list = [checkpoint]"
      ],
      "metadata": {
        "id": "SSrxI0ugIRgE"
      },
      "execution_count": null,
      "outputs": []
    },
    {
      "cell_type": "code",
      "source": [
        "model_history = model.fit(train,Y_train,validation_data = (valid, Y_val),epochs=25, batch_size=256, shuffle=True,callbacks=callbacks_list)"
      ],
      "metadata": {
        "id": "Izzl7SM8IbJz"
      },
      "execution_count": null,
      "outputs": []
    },
    {
      "cell_type": "code",
      "source": [
        "with open('/content/drive/MyDrive/CV_project/test.npy', 'rb') as f:\n",
        "  test = np.load(f)"
      ],
      "metadata": {
        "id": "pVY_7p29yf10"
      },
      "execution_count": null,
      "outputs": []
    },
    {
      "cell_type": "code",
      "source": [
        "from tensorflow import keras\n",
        "model = keras.models.load_model('/content/drive/MyDrive/CV_project_final/models /resnet_model_distracted.hdf5')\n",
        "results = model.evaluate(test,Y_test, batch_size=128)"
      ],
      "metadata": {
        "id": "eJaMAKhYyiYA"
      },
      "execution_count": null,
      "outputs": []
    },
    {
      "cell_type": "code",
      "source": [
        "def print_confusion_matrix(confusion_matrix, class_names, figsize = (10,7), fontsize=14):\n",
        "    df_cm = pd.DataFrame(\n",
        "        confusion_matrix, index=class_names, columns=class_names, \n",
        "    )\n",
        "    fig = plt.figure(figsize=figsize)\n",
        "    try:\n",
        "        heatmap = sns.heatmap(df_cm, annot=True, fmt=\"d\")\n",
        "    except ValueError:\n",
        "        raise ValueError(\"Confusion matrix values must be integers.\")\n",
        "    heatmap.yaxis.set_ticklabels(heatmap.yaxis.get_ticklabels(), rotation=0, ha='right', fontsize=fontsize)\n",
        "    heatmap.xaxis.set_ticklabels(heatmap.xaxis.get_ticklabels(), rotation=45, ha='right', fontsize=fontsize)\n",
        "    plt.ylabel('True label')\n",
        "    plt.xlabel('Predicted label')\n",
        "    fig.savefig(\"confusion_matrix.png\")\n",
        "    return fig"
      ],
      "metadata": {
        "id": "lqAd581nT-6Q"
      },
      "execution_count": null,
      "outputs": []
    },
    {
      "cell_type": "code",
      "source": [
        "def print_heatmap(n_labels, n_predictions, class_names):\n",
        "    labels = n_labels #sess.run(tf.argmax(n_labels, 1))\n",
        "    predictions = n_predictions #sess.run(tf.argmax(n_predictions, 1))\n",
        "\n",
        "#     confusion_matrix = sess.run(tf.contrib.metrics.confusion_matrix(labels, predictions))\n",
        "    matrix = confusion_matrix(labels.argmax(axis=1),predictions.argmax(axis=1))\n",
        "    row_sum = np.sum(matrix, axis = 1)\n",
        "    w, h = matrix.shape\n",
        "\n",
        "    c_m = np.zeros((w, h))\n",
        "\n",
        "    for i in range(h):\n",
        "        c_m[i] = matrix[i] * 100 / row_sum[i]\n",
        "\n",
        "    c = c_m.astype(dtype = np.uint8)\n",
        "\n",
        "    \n",
        "    heatmap = print_confusion_matrix(c, class_names, figsize=(18,10), fontsize=20)"
      ],
      "metadata": {
        "id": "rkc1rGQNUCh6"
      },
      "execution_count": null,
      "outputs": []
    },
    {
      "cell_type": "code",
      "source": [
        "del train"
      ],
      "metadata": {
        "id": "wvrdcZNp4WX-"
      },
      "execution_count": null,
      "outputs": []
    },
    {
      "cell_type": "code",
      "source": [
        "del val"
      ],
      "metadata": {
        "id": "o7VCfDxo4Xtq"
      },
      "execution_count": null,
      "outputs": []
    },
    {
      "cell_type": "code",
      "source": [
        "class_names = list()\n",
        "for name,idx in labels_id.items():\n",
        "    class_names.append(name)\n",
        "ypred = model.predict(test)"
      ],
      "metadata": {
        "id": "Vis-2LM9UCkC"
      },
      "execution_count": null,
      "outputs": []
    },
    {
      "cell_type": "code",
      "source": [
        "print_heatmap(Y_test,ypred,class_names)\n"
      ],
      "metadata": {
        "id": "JbknZfK4UI-3"
      },
      "execution_count": null,
      "outputs": []
    },
    {
      "cell_type": "code",
      "source": [
        "ypred_class = np.argmax(ypred,axis=1)\n",
        "# print(ypred_class[:10])\n",
        "ytest = np.argmax(Y_test,axis=1)"
      ],
      "metadata": {
        "id": "R0lOScc7UOXc"
      },
      "execution_count": null,
      "outputs": []
    },
    {
      "cell_type": "code",
      "source": [
        "accuracy = accuracy_score(ytest,ypred_class)\n",
        "print('Accuracy: %f' % accuracy)\n",
        "# precision tp / (tp + fp)\n",
        "precision = precision_score(ytest, ypred_class,average='weighted')\n",
        "print('Precision: %f' % precision)\n",
        "# recall: tp / (tp + fn)\n",
        "recall = recall_score(ytest,ypred_class,average='weighted')\n",
        "print('Recall: %f' % recall)\n",
        "# f1: 2 tp / (2 tp + fp + fn)\n",
        "f1 = f1_score(ytest,ypred_class,average='weighted')\n",
        "print('F1 score: %f' % f1)"
      ],
      "metadata": {
        "id": "ER1qsQANUP0O"
      },
      "execution_count": null,
      "outputs": []
    }
  ]
}