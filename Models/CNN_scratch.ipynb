{
  "cells": [
    {
      "cell_type": "code",
      "execution_count": 1,
      "metadata": {
        "colab": {
          "base_uri": "https://localhost:8080/"
        },
        "id": "rA76fir_sR31",
        "outputId": "70360dbe-e4c0-4846-ef6c-6d42f0ad0500"
      },
      "outputs": [
        {
          "output_type": "stream",
          "name": "stdout",
          "text": [
            "Mounted at /content/drive\n"
          ]
        }
      ],
      "source": [
        "from google.colab import drive\n",
        "from google.colab import files\n",
        "import pandas as pd \n",
        "import warnings\n",
        "import os\n",
        "import pandas as pd\n",
        "import pickle\n",
        "import numpy as np\n",
        "import seaborn as sns\n",
        "from sklearn.datasets import load_files\n",
        "from keras.utils import np_utils\n",
        "import matplotlib.pyplot as plt\n",
        "from keras.layers import Conv2D, MaxPooling2D, GlobalAveragePooling2D\n",
        "from keras.layers import Dropout, Flatten, Dense\n",
        "from keras.models import Sequential\n",
        "from keras.utils.vis_utils import plot_model\n",
        "from keras.callbacks import ModelCheckpoint\n",
        "from sklearn.metrics import confusion_matrix\n",
        "from keras.preprocessing import image                  \n",
        "from tqdm import tqdm\n",
        "\n",
        "import seaborn as sns\n",
        "from sklearn.metrics import accuracy_score,precision_score,recall_score,f1_score \n",
        "warnings.filterwarnings(\"ignore\")\n",
        "#mounting the drive \n",
        "drive.mount('/content/drive')\n",
        "# run code in google colab since it uses libraries from the same \n",
        "# upload input files onto the local session of colab / same folder as the .py file "
      ]
    },
    {
      "cell_type": "code",
      "execution_count": 7,
      "metadata": {
        "id": "h1b0yaCS_Udf"
      },
      "outputs": [],
      "source": [
        "import os\n",
        "def create_csv(DATA_DIR,filename):\n",
        "    class_names = os.listdir(DATA_DIR)\n",
        "    data = list()\n",
        "    if(os.path.isdir(os.path.join(DATA_DIR,class_names[0]))):\n",
        "        for class_name in class_names:\n",
        "            file_names = os.listdir(os.path.join(DATA_DIR,class_name))\n",
        "            for file in file_names:\n",
        "                data.append({\n",
        "                    \"Filename\":os.path.join(DATA_DIR,class_name,file),\n",
        "                    \"ClassName\":class_name\n",
        "                })\n",
        "    else:\n",
        "        class_name = \"test\"\n",
        "        file_names = os.listdir(DATA_DIR)\n",
        "        for file in file_names:\n",
        "            data.append(({\n",
        "                \"FileName\":os.path.join(DATA_DIR,file),\n",
        "                \"ClassName\":class_name\n",
        "            }))\n",
        "    data = pd.DataFrame(data)\n",
        "    data.to_csv(os.path.join('/content/drive/MyDrive/CV_project/',filename),index=False)\n",
        "\n",
        "\n",
        "TRAIN_DIR = '/content/drive/MyDrive/CV_project/mediaPipe' \n",
        "create_csv(TRAIN_DIR,\"train.csv\")\n",
        "\n"
      ]
    },
    {
      "cell_type": "code",
      "execution_count": 8,
      "metadata": {
        "id": "sqEnOABKS5ZH"
      },
      "outputs": [],
      "source": [
        "data = pd.read_csv(\"/content/drive/MyDrive/CV_project/train.csv\")"
      ]
    },
    {
      "cell_type": "code",
      "execution_count": 9,
      "metadata": {
        "colab": {
          "base_uri": "https://localhost:8080/"
        },
        "id": "yXnpi4QFELuk",
        "outputId": "cabac143-9d70-491f-94e9-6d0766945182"
      },
      "outputs": [
        {
          "output_type": "stream",
          "name": "stdout",
          "text": [
            "<class 'pandas.core.frame.DataFrame'>\n",
            "RangeIndex: 32368 entries, 0 to 32367\n",
            "Data columns (total 2 columns):\n",
            " #   Column     Non-Null Count  Dtype \n",
            "---  ------     --------------  ----- \n",
            " 0   Filename   32368 non-null  object\n",
            " 1   ClassName  32368 non-null  object\n",
            "dtypes: object(2)\n",
            "memory usage: 505.9+ KB\n"
          ]
        }
      ],
      "source": [
        "data.info()"
      ]
    },
    {
      "cell_type": "code",
      "execution_count": 10,
      "metadata": {
        "colab": {
          "base_uri": "https://localhost:8080/"
        },
        "id": "PI3jPXn8ELwl",
        "outputId": "37c76596-f7c2-4f92-94ef-8f24cef57e42"
      },
      "outputs": [
        {
          "output_type": "execute_result",
          "data": {
            "text/plain": [
              "c0    4904\n",
              "c9    3868\n",
              "c1    3576\n",
              "c5    3156\n",
              "c4    3149\n",
              "c6    3051\n",
              "c3    2905\n",
              "c2    2776\n",
              "c7    2584\n",
              "c8    2399\n",
              "Name: ClassName, dtype: int64"
            ]
          },
          "metadata": {},
          "execution_count": 10
        }
      ],
      "source": [
        "data['ClassName'].value_counts()"
      ]
    },
    {
      "cell_type": "code",
      "execution_count": 11,
      "metadata": {
        "colab": {
          "base_uri": "https://localhost:8080/",
          "height": 175
        },
        "id": "wgPzeSsHESDR",
        "outputId": "bc9d3ee3-bf26-44ab-f488-75f08e573ee9"
      },
      "outputs": [
        {
          "output_type": "execute_result",
          "data": {
            "text/plain": [
              "                                                 Filename ClassName\n",
              "count                                               32368     32368\n",
              "unique                                              32368        10\n",
              "top     /content/drive/MyDrive/CV_project/mediaPipe/c0...        c0\n",
              "freq                                                    1      4904"
            ],
            "text/html": [
              "\n",
              "  <div id=\"df-1a6ac1a0-f743-42e9-a06a-90782ff0495a\">\n",
              "    <div class=\"colab-df-container\">\n",
              "      <div>\n",
              "<style scoped>\n",
              "    .dataframe tbody tr th:only-of-type {\n",
              "        vertical-align: middle;\n",
              "    }\n",
              "\n",
              "    .dataframe tbody tr th {\n",
              "        vertical-align: top;\n",
              "    }\n",
              "\n",
              "    .dataframe thead th {\n",
              "        text-align: right;\n",
              "    }\n",
              "</style>\n",
              "<table border=\"1\" class=\"dataframe\">\n",
              "  <thead>\n",
              "    <tr style=\"text-align: right;\">\n",
              "      <th></th>\n",
              "      <th>Filename</th>\n",
              "      <th>ClassName</th>\n",
              "    </tr>\n",
              "  </thead>\n",
              "  <tbody>\n",
              "    <tr>\n",
              "      <th>count</th>\n",
              "      <td>32368</td>\n",
              "      <td>32368</td>\n",
              "    </tr>\n",
              "    <tr>\n",
              "      <th>unique</th>\n",
              "      <td>32368</td>\n",
              "      <td>10</td>\n",
              "    </tr>\n",
              "    <tr>\n",
              "      <th>top</th>\n",
              "      <td>/content/drive/MyDrive/CV_project/mediaPipe/c0...</td>\n",
              "      <td>c0</td>\n",
              "    </tr>\n",
              "    <tr>\n",
              "      <th>freq</th>\n",
              "      <td>1</td>\n",
              "      <td>4904</td>\n",
              "    </tr>\n",
              "  </tbody>\n",
              "</table>\n",
              "</div>\n",
              "      <button class=\"colab-df-convert\" onclick=\"convertToInteractive('df-1a6ac1a0-f743-42e9-a06a-90782ff0495a')\"\n",
              "              title=\"Convert this dataframe to an interactive table.\"\n",
              "              style=\"display:none;\">\n",
              "        \n",
              "  <svg xmlns=\"http://www.w3.org/2000/svg\" height=\"24px\"viewBox=\"0 0 24 24\"\n",
              "       width=\"24px\">\n",
              "    <path d=\"M0 0h24v24H0V0z\" fill=\"none\"/>\n",
              "    <path d=\"M18.56 5.44l.94 2.06.94-2.06 2.06-.94-2.06-.94-.94-2.06-.94 2.06-2.06.94zm-11 1L8.5 8.5l.94-2.06 2.06-.94-2.06-.94L8.5 2.5l-.94 2.06-2.06.94zm10 10l.94 2.06.94-2.06 2.06-.94-2.06-.94-.94-2.06-.94 2.06-2.06.94z\"/><path d=\"M17.41 7.96l-1.37-1.37c-.4-.4-.92-.59-1.43-.59-.52 0-1.04.2-1.43.59L10.3 9.45l-7.72 7.72c-.78.78-.78 2.05 0 2.83L4 21.41c.39.39.9.59 1.41.59.51 0 1.02-.2 1.41-.59l7.78-7.78 2.81-2.81c.8-.78.8-2.07 0-2.86zM5.41 20L4 18.59l7.72-7.72 1.47 1.35L5.41 20z\"/>\n",
              "  </svg>\n",
              "      </button>\n",
              "      \n",
              "  <style>\n",
              "    .colab-df-container {\n",
              "      display:flex;\n",
              "      flex-wrap:wrap;\n",
              "      gap: 12px;\n",
              "    }\n",
              "\n",
              "    .colab-df-convert {\n",
              "      background-color: #E8F0FE;\n",
              "      border: none;\n",
              "      border-radius: 50%;\n",
              "      cursor: pointer;\n",
              "      display: none;\n",
              "      fill: #1967D2;\n",
              "      height: 32px;\n",
              "      padding: 0 0 0 0;\n",
              "      width: 32px;\n",
              "    }\n",
              "\n",
              "    .colab-df-convert:hover {\n",
              "      background-color: #E2EBFA;\n",
              "      box-shadow: 0px 1px 2px rgba(60, 64, 67, 0.3), 0px 1px 3px 1px rgba(60, 64, 67, 0.15);\n",
              "      fill: #174EA6;\n",
              "    }\n",
              "\n",
              "    [theme=dark] .colab-df-convert {\n",
              "      background-color: #3B4455;\n",
              "      fill: #D2E3FC;\n",
              "    }\n",
              "\n",
              "    [theme=dark] .colab-df-convert:hover {\n",
              "      background-color: #434B5C;\n",
              "      box-shadow: 0px 1px 3px 1px rgba(0, 0, 0, 0.15);\n",
              "      filter: drop-shadow(0px 1px 2px rgba(0, 0, 0, 0.3));\n",
              "      fill: #FFFFFF;\n",
              "    }\n",
              "  </style>\n",
              "\n",
              "      <script>\n",
              "        const buttonEl =\n",
              "          document.querySelector('#df-1a6ac1a0-f743-42e9-a06a-90782ff0495a button.colab-df-convert');\n",
              "        buttonEl.style.display =\n",
              "          google.colab.kernel.accessAllowed ? 'block' : 'none';\n",
              "\n",
              "        async function convertToInteractive(key) {\n",
              "          const element = document.querySelector('#df-1a6ac1a0-f743-42e9-a06a-90782ff0495a');\n",
              "          const dataTable =\n",
              "            await google.colab.kernel.invokeFunction('convertToInteractive',\n",
              "                                                     [key], {});\n",
              "          if (!dataTable) return;\n",
              "\n",
              "          const docLinkHtml = 'Like what you see? Visit the ' +\n",
              "            '<a target=\"_blank\" href=https://colab.research.google.com/notebooks/data_table.ipynb>data table notebook</a>'\n",
              "            + ' to learn more about interactive tables.';\n",
              "          element.innerHTML = '';\n",
              "          dataTable['output_type'] = 'display_data';\n",
              "          await google.colab.output.renderOutput(dataTable, element);\n",
              "          const docLink = document.createElement('div');\n",
              "          docLink.innerHTML = docLinkHtml;\n",
              "          element.appendChild(docLink);\n",
              "        }\n",
              "      </script>\n",
              "    </div>\n",
              "  </div>\n",
              "  "
            ]
          },
          "metadata": {},
          "execution_count": 11
        }
      ],
      "source": [
        "data.describe()"
      ]
    },
    {
      "cell_type": "code",
      "execution_count": 12,
      "metadata": {
        "colab": {
          "base_uri": "https://localhost:8080/",
          "height": 455
        },
        "id": "-9U5iz1oESFo",
        "outputId": "e0be44b1-d2c8-4448-bf1d-f941860afce2"
      },
      "outputs": [
        {
          "output_type": "display_data",
          "data": {
            "text/plain": [
              "<Figure size 1440x1080 with 1 Axes>"
            ],
            "image/png": "[encoded data removed]"
          },
          "metadata": {
            "needs_background": "light"
          }
        }
      ],
      "source": [
        "nf = data['ClassName'].value_counts(sort=False)\n",
        "labels = data['ClassName'].value_counts(sort=False).index.tolist()\n",
        "y = np.array(nf)\n",
        "width = 1/1.5\n",
        "N = len(y)\n",
        "x = range(N)\n",
        "\n",
        "fig = plt.figure(figsize=(20,15))\n",
        "ay = fig.add_subplot(211)\n",
        "\n",
        "plt.xticks(x, labels, size=15)\n",
        "plt.yticks(size=15)\n",
        "\n",
        "ay.bar(x, y, width, color=\"blue\")\n",
        "\n",
        "plt.title('Bar Chart',size=25)\n",
        "plt.xlabel('classname',size=15)\n",
        "plt.ylabel('Count',size=15)\n",
        "\n",
        "plt.show()"
      ]
    },
    {
      "cell_type": "code",
      "source": [
        "del nf, labels, y, N, ay "
      ],
      "metadata": {
        "id": "q-NsIto_Y0TF"
      },
      "execution_count": 13,
      "outputs": []
    },
    {
      "cell_type": "code",
      "execution_count": 14,
      "metadata": {
        "colab": {
          "base_uri": "https://localhost:8080/"
        },
        "id": "1wIJNFWzESJP",
        "outputId": "f3e568c3-0338-42d8-c4c2-272d27133c3f"
      },
      "outputs": [
        {
          "output_type": "stream",
          "name": "stdout",
          "text": [
            "['c9', 'c8', 'c0', 'c5', 'c1', 'c7', 'c3', 'c2', 'c6', 'c4']\n",
            "{'c0': 0, 'c1': 1, 'c2': 2, 'c3': 3, 'c4': 4, 'c5': 5, 'c6': 6, 'c7': 7, 'c8': 8, 'c9': 9}\n"
          ]
        }
      ],
      "source": [
        "labels_list = list(set(data['ClassName'].values.tolist()))\n",
        "print(labels_list)\n",
        "labels_id = {'c0' : 0, 'c1' : 1, 'c2' : 2, 'c3':3, 'c4':4, 'c5' : 5, 'c6' : 6, 'c7' : 7, 'c8':8, 'c9':9}\n",
        "print(labels_id)\n",
        "data['ClassName'].replace(labels_id,inplace=True)"
      ]
    },
    {
      "cell_type": "code",
      "execution_count": 15,
      "metadata": {
        "id": "QabSzToLEeBN"
      },
      "outputs": [],
      "source": [
        "with open(os.path.join(\"/content/drive/MyDrive/CV_project/\", \"labels_list.pkl\"),\"wb\") as handle:\n",
        "    pickle.dump(labels_id,handle)"
      ]
    },
    {
      "cell_type": "code",
      "execution_count": 16,
      "metadata": {
        "colab": {
          "base_uri": "https://localhost:8080/"
        },
        "id": "B_ynh78bEyTt",
        "outputId": "af942272-7dc1-41af-a85e-d32b1009c253"
      },
      "outputs": [
        {
          "output_type": "stream",
          "name": "stdout",
          "text": [
            "(32368, 10)\n"
          ]
        }
      ],
      "source": [
        "from tensorflow.keras.utils import to_categorical\n",
        "\n",
        "labels = to_categorical(data['ClassName'])\n",
        "print(labels.shape)"
      ]
    },
    {
      "cell_type": "code",
      "execution_count": 17,
      "metadata": {
        "id": "gH7NLdSQE0V1"
      },
      "outputs": [],
      "source": [
        "from sklearn.model_selection import train_test_split\n",
        "\n",
        "X_train, xtest, Y_train, ytest = train_test_split(data.iloc[:,0],labels,train_size = 0.7,random_state=42)"
      ]
    },
    {
      "cell_type": "code",
      "execution_count": 18,
      "metadata": {
        "id": "0YrWXdlDGxvh"
      },
      "outputs": [],
      "source": [
        "X_val, X_test, Y_val, Y_test = train_test_split(xtest, ytest, test_size = 0.5,random_state=42)"
      ]
    },
    {
      "cell_type": "code",
      "source": [
        "np.shape(X_train)"
      ],
      "metadata": {
        "colab": {
          "base_uri": "https://localhost:8080/"
        },
        "id": "6atAdWMTamol",
        "outputId": "38c88ec8-6722-4dae-d715-8692df6f8d77"
      },
      "execution_count": 19,
      "outputs": [
        {
          "output_type": "execute_result",
          "data": {
            "text/plain": [
              "(22657,)"
            ]
          },
          "metadata": {},
          "execution_count": 19
        }
      ]
    },
    {
      "cell_type": "code",
      "source": [
        "np.shape(X_test)"
      ],
      "metadata": {
        "colab": {
          "base_uri": "https://localhost:8080/"
        },
        "id": "dKbnKSyPapfJ",
        "outputId": "38f1bd94-ac48-4734-d566-34e7a8054f82"
      },
      "execution_count": 20,
      "outputs": [
        {
          "output_type": "execute_result",
          "data": {
            "text/plain": [
              "(4856,)"
            ]
          },
          "metadata": {},
          "execution_count": 20
        }
      ]
    },
    {
      "cell_type": "code",
      "source": [
        "del data"
      ],
      "metadata": {
        "id": "-ABJMFx-Y6WQ"
      },
      "execution_count": null,
      "outputs": []
    },
    {
      "cell_type": "code",
      "source": [
        "del xtest, ytest"
      ],
      "metadata": {
        "id": "Jm3K9Fi4athd"
      },
      "execution_count": null,
      "outputs": []
    },
    {
      "cell_type": "code",
      "execution_count": null,
      "metadata": {
        "id": "sNJ_1kM-HHwJ"
      },
      "outputs": [],
      "source": [
        "from PIL import ImageFile                            \n",
        "ImageFile.LOAD_TRUNCATED_IMAGES = True                 \n"
      ]
    },
    {
      "cell_type": "code",
      "execution_count": null,
      "metadata": {
        "id": "ZgyFy_12G-Q7"
      },
      "outputs": [],
      "source": [
        "def path_to_tensor(img_path):\n",
        "    # loads RGB image as PIL.Image.Image type\n",
        "    img = image.load_img(img_path, target_size=(128, 128))\n",
        "    # convert PIL.Image.Image type to 3D tensor with shape (224, 224, 3)\n",
        "    x = image.img_to_array(img)\n",
        "    # convert 3D tensor to 4D tensor with shape (1, 224, 224, 3) and return 4D tensor\n",
        "    del img \n",
        "    return np.expand_dims(x, axis=0)\n",
        "\n",
        "def paths_to_tensor(img_paths):\n",
        "    list_of_tensors = [path_to_tensor(img_path) for img_path in tqdm(img_paths)]\n",
        "    return np.vstack(list_of_tensors)"
      ]
    },
    {
      "cell_type": "code",
      "execution_count": null,
      "metadata": {
        "id": "gbtS8Meyil5d"
      },
      "outputs": [],
      "source": [
        "def path_to_arr(img_path):\n",
        "    # loads RGB image as PIL.Image.Image type\n",
        "    img = image.load_img(img_path,  color_mode='rgb', target_size=(128, 128))\n",
        "    img = np.array(img)\n",
        "    # convert PIL.Image.Image type to 3D tensor with shape (224, 224, 3)\n",
        "    # x = image.img_to_array(img)\n",
        "    # convert 3D tensor to 4D tensor with shape (1, 224, 224, 3) and return 4D tensor\n",
        "    return img\n",
        "\n",
        "def paths_to_arr(img_paths):\n",
        "    list_of_tensors = [path_to_arr(img_path) for img_path in tqdm(img_paths)]\n",
        "    return np.array(list_of_tensors)\n"
      ]
    },
    {
      "cell_type": "code",
      "execution_count": null,
      "metadata": {
        "id": "_HQ9NsW2j9AM"
      },
      "outputs": [],
      "source": [
        "train = paths_to_tensor(X_train)"
      ]
    },
    {
      "cell_type": "code",
      "source": [
        "np.shape(train)"
      ],
      "metadata": {
        "colab": {
          "base_uri": "https://localhost:8080/"
        },
        "id": "5WU7M4n2ZLtO",
        "outputId": "5c627d9c-6bba-4e3c-f262-db3a472644d1"
      },
      "execution_count": null,
      "outputs": [
        {
          "output_type": "execute_result",
          "data": {
            "text/plain": [
              "(22657, 128, 128, 3)"
            ]
          },
          "metadata": {},
          "execution_count": 16
        }
      ]
    },
    {
      "cell_type": "code",
      "source": [
        "with open('/content/drive/MyDrive/CV_project/train.npy', 'wb') as f:\n",
        "  np.save(f, train)"
      ],
      "metadata": {
        "id": "RoeVquIRYKzX"
      },
      "execution_count": null,
      "outputs": []
    },
    {
      "cell_type": "code",
      "source": [
        "with open('/content/drive/MyDrive/CV_project/train.npy', 'rb') as f:\n",
        "  tr = np.load(f)"
      ],
      "metadata": {
        "id": "f1-vNRvtYZS8"
      },
      "execution_count": null,
      "outputs": []
    },
    {
      "cell_type": "code",
      "source": [
        "np.shape(train)"
      ],
      "metadata": {
        "colab": {
          "base_uri": "https://localhost:8080/"
        },
        "id": "Cf-QBYoFZiIp",
        "outputId": "28648f4d-7a79-44d1-8c18-9a6f1e6d705d"
      },
      "execution_count": null,
      "outputs": [
        {
          "output_type": "execute_result",
          "data": {
            "text/plain": [
              "(22657, 128, 128, 3)"
            ]
          },
          "metadata": {},
          "execution_count": 24
        }
      ]
    },
    {
      "cell_type": "code",
      "source": [
        "del train"
      ],
      "metadata": {
        "id": "WXttecayZvYa"
      },
      "execution_count": null,
      "outputs": []
    },
    {
      "cell_type": "code",
      "execution_count": null,
      "metadata": {
        "id": "BmO4fTqpXoKo"
      },
      "outputs": [],
      "source": [
        "valid = paths_to_tensor(X_val)"
      ]
    },
    {
      "cell_type": "code",
      "source": [
        "with open('/content/drive/MyDrive/CV_project/valid.npy', 'wb') as f:\n",
        "  np.save(f, valid)"
      ],
      "metadata": {
        "id": "n6_l8FBcbO3W"
      },
      "execution_count": null,
      "outputs": []
    },
    {
      "cell_type": "code",
      "source": [
        "with open('/content/drive/MyDrive/CV_project/valid.npy', 'rb') as f:\n",
        "  val = np.load(f)"
      ],
      "metadata": {
        "id": "FdamWPZ-bPA4"
      },
      "execution_count": null,
      "outputs": []
    },
    {
      "cell_type": "code",
      "source": [
        "np.shape(val)"
      ],
      "metadata": {
        "colab": {
          "base_uri": "https://localhost:8080/"
        },
        "id": "zRSh5O3kbVbp",
        "outputId": "e3d29ad1-3e8a-4a0c-89d3-c9cada53e3b3"
      },
      "execution_count": null,
      "outputs": [
        {
          "output_type": "execute_result",
          "data": {
            "text/plain": [
              "(11328, 128, 128, 3)"
            ]
          },
          "metadata": {},
          "execution_count": 27
        }
      ]
    },
    {
      "cell_type": "code",
      "source": [
        "del val "
      ],
      "metadata": {
        "id": "tsepoSLZh07V"
      },
      "execution_count": null,
      "outputs": []
    },
    {
      "cell_type": "code",
      "source": [
        "test = paths_to_tensor(X_test)"
      ],
      "metadata": {
        "id": "Ikh_VSRqcF5j"
      },
      "execution_count": null,
      "outputs": []
    },
    {
      "cell_type": "code",
      "source": [
        "with open('/content/drive/MyDrive/CV_project/test.npy', 'wb') as f:\n",
        "  np.save(f, test)"
      ],
      "metadata": {
        "id": "3jMh5uYGcacp"
      },
      "execution_count": null,
      "outputs": []
    },
    {
      "cell_type": "code",
      "source": [
        "with open('/content/drive/MyDrive/CV_project/test.npy', 'rb') as f:\n",
        "  tes = np.load(f)"
      ],
      "metadata": {
        "id": "JAz2o3U1cahm"
      },
      "execution_count": 2,
      "outputs": []
    },
    {
      "cell_type": "code",
      "source": [
        "np.shape(tes)"
      ],
      "metadata": {
        "colab": {
          "base_uri": "https://localhost:8080/"
        },
        "id": "rjm6Gt95cakX",
        "outputId": "66b81cc9-460d-4799-ee2e-103d6ad98923"
      },
      "execution_count": 3,
      "outputs": [
        {
          "output_type": "execute_result",
          "data": {
            "text/plain": [
              "(4856, 128, 128, 3)"
            ]
          },
          "metadata": {},
          "execution_count": 3
        }
      ]
    },
    {
      "cell_type": "code",
      "source": [
        "del test,  tes"
      ],
      "metadata": {
        "id": "HZHiH6c2dW0p"
      },
      "execution_count": null,
      "outputs": []
    },
    {
      "cell_type": "code",
      "execution_count": null,
      "metadata": {
        "colab": {
          "base_uri": "https://localhost:8080/"
        },
        "id": "YklokptqILuF",
        "outputId": "ea76deea-9b8a-4fec-ab79-0375b7c8b0b3"
      },
      "outputs": [
        {
          "output_type": "stream",
          "name": "stdout",
          "text": [
            "Model: \"sequential\"\n",
            "_________________________________________________________________\n",
            " Layer (type)                Output Shape              Param #   \n",
            "=================================================================\n",
            " conv2d (Conv2D)             (None, 128, 128, 64)      832       \n",
            "                                                                 \n",
            " max_pooling2d (MaxPooling2D  (None, 64, 64, 64)       0         \n",
            " )                                                               \n",
            "                                                                 \n",
            " conv2d_1 (Conv2D)           (None, 64, 64, 128)       32896     \n",
            "                                                                 \n",
            " max_pooling2d_1 (MaxPooling  (None, 32, 32, 128)      0         \n",
            " 2D)                                                             \n",
            "                                                                 \n",
            " conv2d_2 (Conv2D)           (None, 32, 32, 256)       131328    \n",
            "                                                                 \n",
            " max_pooling2d_2 (MaxPooling  (None, 16, 16, 256)      0         \n",
            " 2D)                                                             \n",
            "                                                                 \n",
            " conv2d_3 (Conv2D)           (None, 16, 16, 512)       524800    \n",
            "                                                                 \n",
            " max_pooling2d_3 (MaxPooling  (None, 8, 8, 512)        0         \n",
            " 2D)                                                             \n",
            "                                                                 \n",
            " dropout (Dropout)           (None, 8, 8, 512)         0         \n",
            "                                                                 \n",
            " flatten (Flatten)           (None, 32768)             0         \n",
            "                                                                 \n",
            " dense (Dense)               (None, 500)               16384500  \n",
            "                                                                 \n",
            " dropout_1 (Dropout)         (None, 500)               0         \n",
            "                                                                 \n",
            " dense_1 (Dense)             (None, 10)                5010      \n",
            "                                                                 \n",
            "=================================================================\n",
            "Total params: 17,079,366\n",
            "Trainable params: 17,079,366\n",
            "Non-trainable params: 0\n",
            "_________________________________________________________________\n"
          ]
        }
      ],
      "source": [
        "model = Sequential()\n",
        "model.add(Conv2D(filters=64, kernel_size=2, padding='same', activation='relu', input_shape=(128,128,3), kernel_initializer='glorot_normal'))\n",
        "model.add(MaxPooling2D(pool_size=2))\n",
        "model.add(Conv2D(filters=128, kernel_size=2, padding='same', activation='relu', kernel_initializer='glorot_normal'))\n",
        "model.add(MaxPooling2D(pool_size=2))\n",
        "model.add(Conv2D(filters=256, kernel_size=2, padding='same', activation='relu', kernel_initializer='glorot_normal'))\n",
        "model.add(MaxPooling2D(pool_size=2))\n",
        "model.add(Conv2D(filters=512, kernel_size=2, padding='same', activation='relu', kernel_initializer='glorot_normal'))\n",
        "model.add(MaxPooling2D(pool_size=2))\n",
        "model.add(Dropout(0.5))\n",
        "model.add(Flatten())\n",
        "model.add(Dense(500, activation='relu', kernel_initializer='glorot_normal'))\n",
        "model.add(Dropout(0.5))\n",
        "model.add(Dense(10, activation='softmax', kernel_initializer='glorot_normal'))\n",
        "\n",
        "\n",
        "model.summary()"
      ]
    },
    {
      "cell_type": "code",
      "execution_count": null,
      "metadata": {
        "id": "P65mcwqnIOsv"
      },
      "outputs": [],
      "source": [
        "model.compile(optimizer='rmsprop', loss='categorical_crossentropy', metrics=['accuracy'])"
      ]
    },
    {
      "cell_type": "code",
      "execution_count": null,
      "metadata": {
        "colab": {
          "base_uri": "https://localhost:8080/"
        },
        "id": "SSrxI0ugIRgE",
        "outputId": "2195e175-6880-4a9b-cf47-a97252bbce91"
      },
      "outputs": [
        {
          "output_type": "stream",
          "name": "stdout",
          "text": [
            "WARNING:tensorflow:`period` argument is deprecated. Please use `save_freq` to specify the frequency in number of batches seen.\n"
          ]
        }
      ],
      "source": [
        "filepath = \"/content/drive/MyDrive/CV_project/CNN/distracted-{epoch:02d}-{val_accuracy:.2f}.hdf5\"\n",
        "checkpoint = ModelCheckpoint(filepath, monitor='val_accuracy', verbose=1, save_best_only=False, mode='max',period=1)\n",
        "callbacks_list = [checkpoint]"
      ]
    },
    {
      "cell_type": "code",
      "execution_count": null,
      "metadata": {
        "id": "Izzl7SM8IbJz"
      },
      "outputs": [],
      "source": [
        "model_history = model.fit(tr,Y_train,validation_data = (val, Y_val),epochs=25, batch_size=256, shuffle=True,callbacks=callbacks_list)"
      ]
    },
    {
      "cell_type": "code",
      "execution_count": null,
      "metadata": {
        "id": "wvrdcZNp4WX-"
      },
      "outputs": [],
      "source": [
        "del train"
      ]
    },
    {
      "cell_type": "code",
      "execution_count": null,
      "metadata": {
        "id": "o7VCfDxo4Xtq"
      },
      "outputs": [],
      "source": [
        "del val"
      ]
    },
    {
      "cell_type": "code",
      "execution_count": 21,
      "metadata": {
        "id": "0QE5HDI3DaS4",
        "colab": {
          "base_uri": "https://localhost:8080/"
        },
        "outputId": "8a19155e-e554-4d40-998c-19b8d2dfa994"
      },
      "outputs": [
        {
          "output_type": "stream",
          "name": "stdout",
          "text": [
            "38/38 [==============================] - 91s 2s/step - loss: 0.0730 - accuracy: 0.9829\n"
          ]
        }
      ],
      "source": [
        "from tensorflow import keras\n",
        "model = keras.models.load_model('/content/drive/MyDrive/CV_project_final/models /CNN_scratch_model.hdf5')\n",
        "results = model.evaluate(tes,Y_test, batch_size=128)"
      ]
    },
    {
      "cell_type": "code",
      "execution_count": 25,
      "metadata": {
        "id": "lqAd581nT-6Q"
      },
      "outputs": [],
      "source": [
        "def print_confusion_matrix(confusion_matrix, class_names, figsize = (10,7), fontsize=14):\n",
        "    df_cm = pd.DataFrame(\n",
        "        confusion_matrix, index=class_names, columns=class_names, \n",
        "    )\n",
        "    fig = plt.figure(figsize=figsize)\n",
        "    try:\n",
        "        heatmap = sns.heatmap(df_cm, annot=True, fmt=\"d\")\n",
        "    except ValueError:\n",
        "        raise ValueError(\"Confusion matrix values must be integers.\")\n",
        "    heatmap.yaxis.set_ticklabels(heatmap.yaxis.get_ticklabels(), rotation=0, ha='right', fontsize=fontsize)\n",
        "    heatmap.xaxis.set_ticklabels(heatmap.xaxis.get_ticklabels(), rotation=45, ha='right', fontsize=fontsize)\n",
        "    plt.ylabel('True label')\n",
        "    plt.xlabel('Predicted label')\n",
        "    fig.savefig(\"confusion_matrix.png\")\n",
        "    return fig"
      ]
    },
    {
      "cell_type": "code",
      "execution_count": 26,
      "metadata": {
        "id": "rkc1rGQNUCh6"
      },
      "outputs": [],
      "source": [
        "def print_heatmap(n_labels, n_predictions, class_names):\n",
        "    labels = n_labels #sess.run(tf.argmax(n_labels, 1))\n",
        "    predictions = n_predictions #sess.run(tf.argmax(n_predictions, 1))\n",
        "\n",
        "#     confusion_matrix = sess.run(tf.contrib.metrics.confusion_matrix(labels, predictions))\n",
        "    matrix = confusion_matrix(labels.argmax(axis=1),predictions.argmax(axis=1))\n",
        "    row_sum = np.sum(matrix, axis = 1)\n",
        "    w, h = matrix.shape\n",
        "\n",
        "    c_m = np.zeros((w, h))\n",
        "\n",
        "    for i in range(h):\n",
        "        c_m[i] = matrix[i] * 100 / row_sum[i]\n",
        "\n",
        "    c = c_m.astype(dtype = np.uint8)\n",
        "\n",
        "    \n",
        "    heatmap = print_confusion_matrix(c, class_names, figsize=(18,10), fontsize=20)"
      ]
    },
    {
      "cell_type": "code",
      "execution_count": 28,
      "metadata": {
        "id": "Vis-2LM9UCkC"
      },
      "outputs": [],
      "source": [
        "class_names = list()\n",
        "for name,idx in labels_id.items():\n",
        "    class_names.append(name)\n",
        "ypred = model.predict(tes)"
      ]
    },
    {
      "cell_type": "code",
      "execution_count": 32,
      "metadata": {
        "id": "JbknZfK4UI-3",
        "colab": {
          "base_uri": "https://localhost:8080/",
          "height": 626
        },
        "outputId": "e7e21992-30bb-414c-cced-410588e71001"
      },
      "outputs": [
        {
          "output_type": "display_data",
          "data": {
            "text/plain": [
              "<Figure size 1296x720 with 2 Axes>"
            ],
            "image/png": "[encoded data removed]"
          },
          "metadata": {
            "needs_background": "light"
          }
        }
      ],
      "source": [
        "print_heatmap(Y_test,ypred,class_names)\n"
      ]
    },
    {
      "cell_type": "code",
      "execution_count": 30,
      "metadata": {
        "id": "R0lOScc7UOXc"
      },
      "outputs": [],
      "source": [
        "ypred_class = np.argmax(ypred,axis=1)\n",
        "ytest = np.argmax(Y_test,axis=1)"
      ]
    },
    {
      "cell_type": "code",
      "execution_count": 31,
      "metadata": {
        "id": "ER1qsQANUP0O",
        "colab": {
          "base_uri": "https://localhost:8080/"
        },
        "outputId": "8db29501-c9a4-4e39-eeb2-ea307efd97b4"
      },
      "outputs": [
        {
          "output_type": "stream",
          "name": "stdout",
          "text": [
            "Accuracy: 0.982908\n",
            "Precision: 0.983016\n",
            "Recall: 0.982908\n",
            "F1 score: 0.982910\n"
          ]
        }
      ],
      "source": [
        "accuracy = accuracy_score(ytest,ypred_class)\n",
        "print('Accuracy: %f' % accuracy)\n",
        "# precision tp / (tp + fp)\n",
        "precision = precision_score(ytest, ypred_class,average='weighted')\n",
        "print('Precision: %f' % precision)\n",
        "# recall: tp / (tp + fn)\n",
        "recall = recall_score(ytest,ypred_class,average='weighted')\n",
        "print('Recall: %f' % recall)\n",
        "# f1: 2 tp / (2 tp + fp + fn)\n",
        "f1 = f1_score(ytest,ypred_class,average='weighted')\n",
        "print('F1 score: %f' % f1)"
      ]
    }
  ],
  "metadata": {
    "colab": {
      "collapsed_sections": [],
      "name": "CNN_scratch.ipynb",
      "provenance": []
    },
    "kernelspec": {
      "display_name": "Python 3",
      "name": "python3"
    },
    "language_info": {
      "name": "python"
    }
  },
  "nbformat": 4,
  "nbformat_minor": 0
}